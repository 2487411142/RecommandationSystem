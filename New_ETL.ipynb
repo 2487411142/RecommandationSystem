{
  "nbformat": 4,
  "nbformat_minor": 0,
  "metadata": {
    "colab": {
      "provenance": []
    },
    "kernelspec": {
      "name": "python3",
      "display_name": "Python 3"
    },
    "language_info": {
      "name": "python"
    }
  },
  "cells": [
    {
      "cell_type": "markdown",
      "source": [
        "# setting enviroment"
      ],
      "metadata": {
        "id": "xFVeO08Y5S-9"
      }
    },
    {
      "cell_type": "code",
      "source": [
        "!sudo apt update\n",
        "!apt-get install openjdk-8-jdk-headless -qq > /dev/null\n",
        "#Check this site for the latest download link https://www.apache.org/dyn/closer.lua/spark/spark-3.2.1/spark-3.2.1-bin-hadoop3.2.tgz\n",
        "!wget -q https://dlcdn.apache.org/spark/spark-3.2.1/spark-3.2.1-bin-hadoop3.2.tgz\n",
        "!tar xf spark-3.2.1-bin-hadoop3.2.tgz\n",
        "!pip install -q findspark\n",
        "!pip install pyspark\n",
        "!pip install py4j\n",
        "\n",
        "import os\n",
        "import sys\n",
        "# os.environ[\"JAVA_HOME\"] = \"/usr/lib/jvm/java-8-openjdk-amd64\"\n",
        "# os.environ[\"SPARK_HOME\"] = \"/content/spark-3.2.1-bin-hadoop3.2\"\n",
        "\n",
        "\n",
        "import findspark\n",
        "findspark.init()\n",
        "findspark.find()\n",
        "\n",
        "import pyspark\n",
        "\n",
        "from pyspark.sql import DataFrame, SparkSession\n",
        "from typing import List\n",
        "import pyspark.sql.types as T\n",
        "import pyspark.sql.functions as F\n",
        "\n",
        "spark= SparkSession \\\n",
        "       .builder \\\n",
        "       .appName(\"Our First Spark Example\") \\\n",
        "       .getOrCreate()\n",
        "\n",
        "spark"
      ],
      "metadata": {
        "colab": {
          "base_uri": "https://localhost:8080/",
          "height": 725
        },
        "id": "Krfb8r8L5XLC",
        "outputId": "66303e2a-670c-4a79-b2e6-c42fb81daed2"
      },
      "execution_count": 1,
      "outputs": [
        {
          "output_type": "stream",
          "name": "stdout",
          "text": [
            "\u001b[33m\r0% [Working]\u001b[0m\r            \rGet:1 http://security.ubuntu.com/ubuntu jammy-security InRelease [129 kB]\n",
            "\u001b[33m\r0% [Connecting to archive.ubuntu.com (185.125.190.81)] [1 InRelease 12.7 kB/129\u001b[0m\r                                                                               \rGet:2 https://cloud.r-project.org/bin/linux/ubuntu jammy-cran40/ InRelease [3,626 B]\n",
            "\u001b[33m\r0% [Waiting for headers] [1 InRelease 85.1 kB/129 kB 66%] [2 InRelease 3,626 B/\u001b[0m\u001b[33m\r0% [Waiting for headers] [1 InRelease 129 kB/129 kB 100%] [Connected to r2u.sta\u001b[0m\r                                                                               \rHit:3 https://developer.download.nvidia.com/compute/cuda/repos/ubuntu2204/x86_64  InRelease\n",
            "Hit:4 http://archive.ubuntu.com/ubuntu jammy InRelease\n",
            "Get:5 https://r2u.stat.illinois.edu/ubuntu jammy InRelease [6,555 B]\n",
            "Get:6 http://archive.ubuntu.com/ubuntu jammy-updates InRelease [128 kB]\n",
            "Hit:7 https://ppa.launchpadcontent.net/deadsnakes/ppa/ubuntu jammy InRelease\n",
            "Hit:8 https://ppa.launchpadcontent.net/graphics-drivers/ppa/ubuntu jammy InRelease\n",
            "Hit:9 https://ppa.launchpadcontent.net/ubuntugis/ppa/ubuntu jammy InRelease\n",
            "Get:10 http://archive.ubuntu.com/ubuntu jammy-backports InRelease [127 kB]\n",
            "Get:11 http://security.ubuntu.com/ubuntu jammy-security/main amd64 Packages [2,454 kB]\n",
            "Get:12 http://security.ubuntu.com/ubuntu jammy-security/universe amd64 Packages [1,224 kB]\n",
            "Get:13 https://r2u.stat.illinois.edu/ubuntu jammy/main all Packages [8,506 kB]\n",
            "Get:14 https://r2u.stat.illinois.edu/ubuntu jammy/main amd64 Packages [2,619 kB]\n",
            "Get:15 http://archive.ubuntu.com/ubuntu jammy-updates/main amd64 Packages [2,738 kB]\n",
            "Get:16 http://archive.ubuntu.com/ubuntu jammy-updates/universe amd64 Packages [1,513 kB]\n",
            "Get:17 http://archive.ubuntu.com/ubuntu jammy-backports/universe amd64 Packages [33.8 kB]\n",
            "Fetched 19.5 MB in 5s (4,201 kB/s)\n",
            "Reading package lists... Done\n",
            "Building dependency tree... Done\n",
            "Reading state information... Done\n",
            "49 packages can be upgraded. Run 'apt list --upgradable' to see them.\n",
            "\u001b[1;33mW: \u001b[0mSkipping acquire of configured file 'main/source/Sources' as repository 'https://r2u.stat.illinois.edu/ubuntu jammy InRelease' does not seem to provide it (sources.list entry misspelt?)\u001b[0m\n",
            "tar: spark-3.2.1-bin-hadoop3.2.tgz: Cannot open: No such file or directory\n",
            "tar: Error is not recoverable: exiting now\n",
            "Requirement already satisfied: pyspark in /usr/local/lib/python3.10/dist-packages (3.5.3)\n",
            "Requirement already satisfied: py4j==0.10.9.7 in /usr/local/lib/python3.10/dist-packages (from pyspark) (0.10.9.7)\n",
            "Requirement already satisfied: py4j in /usr/local/lib/python3.10/dist-packages (0.10.9.7)\n"
          ]
        },
        {
          "output_type": "execute_result",
          "data": {
            "text/plain": [
              "<pyspark.sql.session.SparkSession at 0x7949b73189a0>"
            ],
            "text/html": [
              "\n",
              "            <div>\n",
              "                <p><b>SparkSession - in-memory</b></p>\n",
              "                \n",
              "        <div>\n",
              "            <p><b>SparkContext</b></p>\n",
              "\n",
              "            <p><a href=\"http://df2db8a03887:4040\">Spark UI</a></p>\n",
              "\n",
              "            <dl>\n",
              "              <dt>Version</dt>\n",
              "                <dd><code>v3.5.3</code></dd>\n",
              "              <dt>Master</dt>\n",
              "                <dd><code>local[*]</code></dd>\n",
              "              <dt>AppName</dt>\n",
              "                <dd><code>Our First Spark Example</code></dd>\n",
              "            </dl>\n",
              "        </div>\n",
              "        \n",
              "            </div>\n",
              "        "
            ]
          },
          "metadata": {},
          "execution_count": 1
        }
      ]
    },
    {
      "cell_type": "code",
      "source": [
        "spark"
      ],
      "metadata": {
        "colab": {
          "base_uri": "https://localhost:8080/",
          "height": 219
        },
        "id": "PvMRYTHd5cZd",
        "outputId": "86a14eb5-5cad-4e8d-de0b-28a7f05e5652"
      },
      "execution_count": 2,
      "outputs": [
        {
          "output_type": "execute_result",
          "data": {
            "text/plain": [
              "<pyspark.sql.session.SparkSession at 0x7949b73189a0>"
            ],
            "text/html": [
              "\n",
              "            <div>\n",
              "                <p><b>SparkSession - in-memory</b></p>\n",
              "                \n",
              "        <div>\n",
              "            <p><b>SparkContext</b></p>\n",
              "\n",
              "            <p><a href=\"http://df2db8a03887:4040\">Spark UI</a></p>\n",
              "\n",
              "            <dl>\n",
              "              <dt>Version</dt>\n",
              "                <dd><code>v3.5.3</code></dd>\n",
              "              <dt>Master</dt>\n",
              "                <dd><code>local[*]</code></dd>\n",
              "              <dt>AppName</dt>\n",
              "                <dd><code>Our First Spark Example</code></dd>\n",
              "            </dl>\n",
              "        </div>\n",
              "        \n",
              "            </div>\n",
              "        "
            ]
          },
          "metadata": {},
          "execution_count": 2
        }
      ]
    },
    {
      "cell_type": "code",
      "source": [
        "\n",
        "!pip install kaggle\n",
        "\n",
        "\n",
        "from google.colab import files\n",
        "!mkdir -p ~/.kaggle\n",
        "!mv kaggle.json ~/.kaggle/\n",
        "!chmod 600 ~/.kaggle/kaggle.json\n",
        "\n",
        "\n",
        "!kaggle datasets download -d mkechinov/ecommerce-purchase-history-from-electronics-store\n",
        "\n",
        "\n",
        "!unzip ecommerce-purchase-history-from-electronics-store.zip -d ecommerce_dataset\n",
        "\n",
        "!ls ecommerce_dataset\n"
      ],
      "metadata": {
        "colab": {
          "base_uri": "https://localhost:8080/"
        },
        "id": "ZRdFLZrp529W",
        "outputId": "bc9ae72d-3ef4-4770-8cea-8affd9a8ed43"
      },
      "execution_count": 3,
      "outputs": [
        {
          "output_type": "stream",
          "name": "stdout",
          "text": [
            "Requirement already satisfied: kaggle in /usr/local/lib/python3.10/dist-packages (1.6.17)\n",
            "Requirement already satisfied: six>=1.10 in /usr/local/lib/python3.10/dist-packages (from kaggle) (1.16.0)\n",
            "Requirement already satisfied: certifi>=2023.7.22 in /usr/local/lib/python3.10/dist-packages (from kaggle) (2024.8.30)\n",
            "Requirement already satisfied: python-dateutil in /usr/local/lib/python3.10/dist-packages (from kaggle) (2.8.2)\n",
            "Requirement already satisfied: requests in /usr/local/lib/python3.10/dist-packages (from kaggle) (2.32.3)\n",
            "Requirement already satisfied: tqdm in /usr/local/lib/python3.10/dist-packages (from kaggle) (4.66.6)\n",
            "Requirement already satisfied: python-slugify in /usr/local/lib/python3.10/dist-packages (from kaggle) (8.0.4)\n",
            "Requirement already satisfied: urllib3 in /usr/local/lib/python3.10/dist-packages (from kaggle) (2.2.3)\n",
            "Requirement already satisfied: bleach in /usr/local/lib/python3.10/dist-packages (from kaggle) (6.2.0)\n",
            "Requirement already satisfied: webencodings in /usr/local/lib/python3.10/dist-packages (from bleach->kaggle) (0.5.1)\n",
            "Requirement already satisfied: text-unidecode>=1.3 in /usr/local/lib/python3.10/dist-packages (from python-slugify->kaggle) (1.3)\n",
            "Requirement already satisfied: charset-normalizer<4,>=2 in /usr/local/lib/python3.10/dist-packages (from requests->kaggle) (3.4.0)\n",
            "Requirement already satisfied: idna<4,>=2.5 in /usr/local/lib/python3.10/dist-packages (from requests->kaggle) (3.10)\n",
            "mv: cannot stat 'kaggle.json': No such file or directory\n",
            "chmod: cannot access '/root/.kaggle/kaggle.json': No such file or directory\n",
            "Dataset URL: https://www.kaggle.com/datasets/mkechinov/ecommerce-purchase-history-from-electronics-store\n",
            "License(s): copyright-authors\n",
            "Downloading ecommerce-purchase-history-from-electronics-store.zip to /content\n",
            " 81% 41.0M/50.5M [00:01<00:00, 50.4MB/s]\n",
            "100% 50.5M/50.5M [00:01<00:00, 50.4MB/s]\n",
            "Archive:  ecommerce-purchase-history-from-electronics-store.zip\n",
            "  inflating: ecommerce_dataset/kz.csv  \n",
            "kz.csv\n"
          ]
        }
      ]
    },
    {
      "cell_type": "code",
      "source": [
        "# Step 1: Install kagglehub\n",
        "!pip install kagglehub\n",
        "\n",
        "# Step 2: Import kagglehub and download dataset\n",
        "import kagglehub\n",
        "\n",
        "path = kagglehub.dataset_download(\"mkechinov/ecommerce-purchase-history-from-electronics-store\")\n",
        "print(\"Path to dataset files:\", path)\n"
      ],
      "metadata": {
        "colab": {
          "base_uri": "https://localhost:8080/"
        },
        "id": "MjZTHNmJIY1u",
        "outputId": "5754fd94-62f8-4dc8-d347-2ba150a50418"
      },
      "execution_count": 4,
      "outputs": [
        {
          "output_type": "stream",
          "name": "stdout",
          "text": [
            "Requirement already satisfied: kagglehub in /usr/local/lib/python3.10/dist-packages (0.3.4)\n",
            "Requirement already satisfied: packaging in /usr/local/lib/python3.10/dist-packages (from kagglehub) (24.2)\n",
            "Requirement already satisfied: requests in /usr/local/lib/python3.10/dist-packages (from kagglehub) (2.32.3)\n",
            "Requirement already satisfied: tqdm in /usr/local/lib/python3.10/dist-packages (from kagglehub) (4.66.6)\n",
            "Requirement already satisfied: charset-normalizer<4,>=2 in /usr/local/lib/python3.10/dist-packages (from requests->kagglehub) (3.4.0)\n",
            "Requirement already satisfied: idna<4,>=2.5 in /usr/local/lib/python3.10/dist-packages (from requests->kagglehub) (3.10)\n",
            "Requirement already satisfied: urllib3<3,>=1.21.1 in /usr/local/lib/python3.10/dist-packages (from requests->kagglehub) (2.2.3)\n",
            "Requirement already satisfied: certifi>=2017.4.17 in /usr/local/lib/python3.10/dist-packages (from requests->kagglehub) (2024.8.30)\n",
            "Downloading from https://www.kaggle.com/api/v1/datasets/download/mkechinov/ecommerce-purchase-history-from-electronics-store?dataset_version_number=2...\n"
          ]
        },
        {
          "output_type": "stream",
          "name": "stderr",
          "text": [
            "100%|██████████| 50.5M/50.5M [00:00<00:00, 164MB/s]"
          ]
        },
        {
          "output_type": "stream",
          "name": "stdout",
          "text": [
            "Extracting files...\n"
          ]
        },
        {
          "output_type": "stream",
          "name": "stderr",
          "text": [
            "\n"
          ]
        },
        {
          "output_type": "stream",
          "name": "stdout",
          "text": [
            "Path to dataset files: /root/.cache/kagglehub/datasets/mkechinov/ecommerce-purchase-history-from-electronics-store/versions/2\n",
            "                event_time             order_id           product_id  \\\n",
            "0  2020-04-24 11:50:39 UTC  2294359932054536986  1515966223509089906   \n",
            "1  2020-04-24 11:50:39 UTC  2294359932054536986  1515966223509089906   \n",
            "2  2020-04-24 14:37:43 UTC  2294444024058086220  2273948319057183658   \n",
            "3  2020-04-24 14:37:43 UTC  2294444024058086220  2273948319057183658   \n",
            "4  2020-04-24 19:16:21 UTC  2294584263154074236  2273948316817424439   \n",
            "\n",
            "    category_id                category_code    brand   price       user_id  \n",
            "0  2.268105e+18           electronics.tablet  samsung  162.01  1.515916e+18  \n",
            "1  2.268105e+18           electronics.tablet  samsung  162.01  1.515916e+18  \n",
            "2  2.268105e+18  electronics.audio.headphone   huawei   77.52  1.515916e+18  \n",
            "3  2.268105e+18  electronics.audio.headphone   huawei   77.52  1.515916e+18  \n",
            "4  2.268105e+18                          NaN  karcher  217.57  1.515916e+18  \n"
          ]
        }
      ]
    },
    {
      "cell_type": "markdown",
      "source": [
        "#Spark Part to read data and prepare"
      ],
      "metadata": {
        "id": "W_fHFnCy6KEt"
      }
    },
    {
      "cell_type": "code",
      "source": [
        "import sys\n",
        "from pyspark.sql import SparkSession, functions, types\n",
        "from pyspark.ml.feature import StringIndexer\n",
        "from pyspark.sql.functions import current_date, year\n",
        "from pyspark.sql.functions import to_timestamp"
      ],
      "metadata": {
        "id": "6pli7R3253Gh"
      },
      "execution_count": 5,
      "outputs": []
    },
    {
      "cell_type": "markdown",
      "source": [
        "#Data Schema"
      ],
      "metadata": {
        "id": "8Fy2t2x8_IRh"
      }
    },
    {
      "cell_type": "code",
      "source": [
        "\n",
        "transactions_schema = types.StructType([\n",
        "    types.StructField('event_time', types.TimestampType()),\n",
        "    types.StructField('order_id', types.StringType()),\n",
        "    types.StructField('product_id', types.StringType()),\n",
        "    types.StructField('category_id', types.StringType()),\n",
        "    types.StructField('category_code', types.StringType()),\n",
        "    types.StructField('brand', types.StringType()),\n",
        "    types.StructField('price', types.FloatType()),\n",
        "    types.StructField('user_id', types.StringType())\n",
        "])"
      ],
      "metadata": {
        "id": "FI9ooHm953KE"
      },
      "execution_count": 6,
      "outputs": []
    },
    {
      "cell_type": "markdown",
      "source": [
        "# import data"
      ],
      "metadata": {
        "id": "CUNyzgjj_MP4"
      }
    },
    {
      "cell_type": "code",
      "source": [
        "transactions = spark.read.csv(path + \"/kz.csv\", schema=transactions_schema, header=True)"
      ],
      "metadata": {
        "id": "t8_x-R9R8GKV"
      },
      "execution_count": 7,
      "outputs": []
    },
    {
      "cell_type": "code",
      "source": [
        "origin_num_rows = transactions.count()\n",
        "print(f\"Number of rows in transactions: {origin_num_rows}\")"
      ],
      "metadata": {
        "colab": {
          "base_uri": "https://localhost:8080/"
        },
        "id": "8T3_o837C-Wk",
        "outputId": "335b86cd-d19e-4cc1-c7d3-8f3c6532ce22"
      },
      "execution_count": 18,
      "outputs": [
        {
          "output_type": "stream",
          "name": "stdout",
          "text": [
            "Number of rows in transactions: 2632846\n"
          ]
        }
      ]
    },
    {
      "cell_type": "code",
      "source": [
        "transactions.show(10, truncate=False)"
      ],
      "metadata": {
        "colab": {
          "base_uri": "https://localhost:8080/"
        },
        "id": "DlHQa9Tn8KXL",
        "outputId": "2f9cf3d0-9fa7-4ef6-f5e6-da59a599e2e7"
      },
      "execution_count": 8,
      "outputs": [
        {
          "output_type": "stream",
          "name": "stdout",
          "text": [
            "+-------------------+-------------------+-------------------+-------------------+---------------------------+-------+-------+-------------------+\n",
            "|event_time         |order_id           |product_id         |category_id        |category_code              |brand  |price  |user_id            |\n",
            "+-------------------+-------------------+-------------------+-------------------+---------------------------+-------+-------+-------------------+\n",
            "|2020-04-24 11:50:39|2294359932054536986|1515966223509089906|2268105426648170900|electronics.tablet         |samsung|162.01 |1515915625441993984|\n",
            "|2020-04-24 11:50:39|2294359932054536986|1515966223509089906|2268105426648170900|electronics.tablet         |samsung|162.01 |1515915625441993984|\n",
            "|2020-04-24 14:37:43|2294444024058086220|2273948319057183658|2268105430162997728|electronics.audio.headphone|huawei |77.52  |1515915625447879434|\n",
            "|2020-04-24 14:37:43|2294444024058086220|2273948319057183658|2268105430162997728|electronics.audio.headphone|huawei |77.52  |1515915625447879434|\n",
            "|2020-04-24 19:16:21|2294584263154074236|2273948316817424439|2268105471367840086|NULL                       |karcher|217.57 |1515915625443148002|\n",
            "|2020-04-26 08:45:57|2295716521449619559|1515966223509261697|2268105442636858090|furniture.kitchen.table    |maestro|39.33  |1515915625450382722|\n",
            "|2020-04-26 09:33:47|2295740594749702229|1515966223509104892|2268105428166508982|electronics.smartphone     |apple  |1387.01|1515915625448766480|\n",
            "|2020-04-26 09:33:47|2295740594749702229|1515966223509104892|2268105428166508982|electronics.smartphone     |apple  |1387.01|1515915625448766480|\n",
            "|2020-04-26 09:33:47|2295740594749702229|1515966223509104892|2268105428166508982|electronics.smartphone     |apple  |1387.01|1515915625448766480|\n",
            "|2020-04-26 09:33:47|2295740594749702229|1515966223509104892|2268105428166508982|electronics.smartphone     |apple  |1387.01|1515915625448766480|\n",
            "+-------------------+-------------------+-------------------+-------------------+---------------------------+-------+-------+-------------------+\n",
            "only showing top 10 rows\n",
            "\n"
          ]
        }
      ]
    },
    {
      "cell_type": "markdown",
      "source": [
        "# Counting the number of product_id, category_id, category_code, brand\n"
      ],
      "metadata": {
        "id": "K5rSvKf4-9Y-"
      }
    },
    {
      "cell_type": "code",
      "source": [
        "\n",
        "product_count = transactions.select(\"product_id\").distinct().count()\n",
        "category_id_count = transactions.select(\"category_id\").distinct().count()\n",
        "category_code_count = transactions.select(\"category_code\").distinct().count()\n",
        "brand_count = transactions.select(\"brand\").distinct().count()\n"
      ],
      "metadata": {
        "id": "I6sKFhJR-goV"
      },
      "execution_count": 9,
      "outputs": []
    },
    {
      "cell_type": "code",
      "source": [
        "\n",
        "print(f\"Unique product_id count: {product_count}\")\n",
        "print(f\"Unique category_id count: {category_id_count}\")\n",
        "print(f\"Unique category_code count: {category_code_count}\")\n",
        "print(f\"Unique brand count: {brand_count}\")\n"
      ],
      "metadata": {
        "colab": {
          "base_uri": "https://localhost:8080/"
        },
        "id": "NTua9thi-nCg",
        "outputId": "f3af97f4-557a-4ef3-8faa-bc13753ab81e"
      },
      "execution_count": 10,
      "outputs": [
        {
          "output_type": "stream",
          "name": "stdout",
          "text": [
            "Unique product_id count: 25113\n",
            "Unique category_id count: 928\n",
            "Unique category_code count: 511\n",
            "Unique brand count: 23022\n"
          ]
        }
      ]
    },
    {
      "cell_type": "markdown",
      "source": [
        "# Counting Missing value and deal with it"
      ],
      "metadata": {
        "id": "RP3SKRDv_iXQ"
      }
    },
    {
      "cell_type": "code",
      "source": [
        "\n",
        "transactions = transactions.distinct()"
      ],
      "metadata": {
        "id": "EVoEuZdSF-C_"
      },
      "execution_count": 31,
      "outputs": []
    },
    {
      "cell_type": "code",
      "source": [
        "missing_counts = transactions.select([F.sum(F.col(c).isNull().cast(\"int\")).alias(c) for c in transactions.columns])\n"
      ],
      "metadata": {
        "id": "znmVL8rU_V8m"
      },
      "execution_count": 32,
      "outputs": []
    },
    {
      "cell_type": "code",
      "source": [
        "transactions.show(10,truncate=False)"
      ],
      "metadata": {
        "colab": {
          "base_uri": "https://localhost:8080/"
        },
        "id": "8akdjbO4Cnxt",
        "outputId": "5a63c4f3-4673-4136-f6eb-b504b8d1b98f"
      },
      "execution_count": 33,
      "outputs": [
        {
          "output_type": "stream",
          "name": "stdout",
          "text": [
            "+-------------------+-------------------+-------------------+-------------------+--------------------------------------+--------+------+-------------------+\n",
            "|event_time         |order_id           |product_id         |category_id        |category_code                         |brand   |price |user_id            |\n",
            "+-------------------+-------------------+-------------------+-------------------+--------------------------------------+--------+------+-------------------+\n",
            "|2020-04-29 13:03:18|2298020380796780966|1515966223509089955|2268105441009468104|appliances.kitchen.meat_grinder       |moulinex|57.85 |1515915625444057633|\n",
            "|2020-04-29 17:25:44|2298152465654088068|1515966223509090099|2360741866917331945|appliances.environment.air_conditioner|beko    |196.74|1515915625452306321|\n",
            "|2020-04-30 03:52:02|2298467695349203486|1515966223509127913|2268105393848713950|appliances.kitchen.refrigerators      |birjusa |252.29|1515915625452503257|\n",
            "|2020-04-30 07:34:21|2298579586444690133|1515966223509104162|2268105428166508982|electronics.smartphone                |samsung |161.78|1515915625450573714|\n",
            "|2020-04-30 09:10:36|2298628037341610825|1515966223509090078|2268105428166508982|electronics.smartphone                |huawei  |92.34 |1515915625452626897|\n",
            "|2020-04-30 16:14:32|2298841407701385621|1515966223509088521|2268105428166508982|electronics.smartphone                |samsung |115.72|1515915625452828088|\n",
            "|2020-05-01 11:47:10|2299431611621442072|1515966223510211173|2268105444734010134|furniture.living_room.shelving        |victoria|16.18 |1515915625441490747|\n",
            "|2020-05-03 04:54:26|2300673431386980576|1515966223509088521|2268105428166508982|electronics.smartphone                |samsung |115.72|1515915625454044515|\n",
            "|2020-05-03 09:33:17|2300813779685867703|2273948223796150359|2268105441101742794|appliances.kitchen.blender            |braun   |74.05 |1515915625453112247|\n",
            "|2020-05-03 10:56:12|2300855513664979066|1515966223509088521|2268105428166508982|electronics.smartphone                |samsung |115.72|1515915625445963104|\n",
            "+-------------------+-------------------+-------------------+-------------------+--------------------------------------+--------+------+-------------------+\n",
            "only showing top 10 rows\n",
            "\n"
          ]
        }
      ]
    },
    {
      "cell_type": "code",
      "source": [
        "new_num_rows = transactions.count()\n",
        "print(f\"Number of rows in transactions: {new_num_rows}\")"
      ],
      "metadata": {
        "colab": {
          "base_uri": "https://localhost:8080/"
        },
        "id": "iEUJJvNbDIdw",
        "outputId": "17063195-667d-4957-e696-9391372223f8"
      },
      "execution_count": 34,
      "outputs": [
        {
          "output_type": "stream",
          "name": "stdout",
          "text": [
            "Number of rows in transactions: 2632846\n"
          ]
        }
      ]
    },
    {
      "cell_type": "code",
      "source": [
        "missing_counts.show()"
      ],
      "metadata": {
        "colab": {
          "base_uri": "https://localhost:8080/"
        },
        "id": "D9r-fk6ZCsyN",
        "outputId": "32a969bf-d89a-41e2-9373-c87e5b196cbf"
      },
      "execution_count": 35,
      "outputs": [
        {
          "output_type": "stream",
          "name": "stdout",
          "text": [
            "+----------+--------+----------+-----------+-------------+------+------+-------+\n",
            "|event_time|order_id|product_id|category_id|category_code| brand| price|user_id|\n",
            "+----------+--------+----------+-----------+-------------+------+------+-------+\n",
            "|         0|       0|         0|     431953|       612053|505965|431953|2069351|\n",
            "+----------+--------+----------+-----------+-------------+------+------+-------+\n",
            "\n"
          ]
        }
      ]
    },
    {
      "cell_type": "markdown",
      "source": [
        "# Filling the category_code.\n",
        "1. From my perspective, category_code should be mathced with category_id, means 1v1. Therefore, I decide to find the pairs of category_id and category_code to fill category_code;\n",
        "2. If there is no category_code be mathched, will be given value 'na';\n",
        "3. Then remove the category_code = 'na'\n"
      ],
      "metadata": {
        "id": "RtcXfK87OvhX"
      }
    },
    {
      "cell_type": "code",
      "source": [
        "\n",
        "category_mapping = (\n",
        "    transactions\n",
        "    .select(\"category_id\", \"category_code\")\n",
        "    .filter(F.col(\"category_code\").isNotNull())\n",
        "    .dropDuplicates()\n",
        ")\n",
        "\n",
        "\n",
        "transactions_filled_code = (\n",
        "    transactions\n",
        "    .join(category_mapping.withColumnRenamed(\"category_code\", \"category_code_mapping\"), on=\"category_id\", how=\"left\")\n",
        "    .withColumn(\n",
        "        \"category_code\",\n",
        "        F.coalesce(F.col(\"category_code_mapping\"), F.lit(\"na\"))\n",
        "    )\n",
        "    .drop(\"category_code_mapping\")\n",
        ")\n"
      ],
      "metadata": {
        "id": "ciNBxGYqMD_Y"
      },
      "execution_count": 64,
      "outputs": []
    },
    {
      "cell_type": "code",
      "source": [
        "missing_counts2 = transactions_filled_code.select([F.sum(F.col(c).isNull().cast(\"int\")).alias(c) for c in transactions_filled_code.columns])"
      ],
      "metadata": {
        "id": "05r2fjEWMJBf"
      },
      "execution_count": 69,
      "outputs": []
    },
    {
      "cell_type": "code",
      "source": [
        "missing_counts2.show()"
      ],
      "metadata": {
        "colab": {
          "base_uri": "https://localhost:8080/"
        },
        "id": "HodfOAOAMqTj",
        "outputId": "a15814f9-7fe1-41e0-d834-5a8a9c6da686"
      },
      "execution_count": 70,
      "outputs": [
        {
          "output_type": "stream",
          "name": "stdout",
          "text": [
            "+-----------+----------+--------+----------+-------------+------+------+-------+\n",
            "|category_id|event_time|order_id|product_id|category_code| brand| price|user_id|\n",
            "+-----------+----------+--------+----------+-------------+------+------+-------+\n",
            "|     431953|         0|       0|         0|            0|505965|431953|2069351|\n",
            "+-----------+----------+--------+----------+-------------+------+------+-------+\n",
            "\n"
          ]
        }
      ]
    },
    {
      "cell_type": "code",
      "source": [
        "transactions_cleaned = transactions_filled_code.filter(F.col(\"category_code\") != \"na\")\n"
      ],
      "metadata": {
        "id": "dQg1PLcvNdpL"
      },
      "execution_count": 71,
      "outputs": []
    },
    {
      "cell_type": "code",
      "source": [
        "\n",
        "transactions_cleaned.show(10)"
      ],
      "metadata": {
        "colab": {
          "base_uri": "https://localhost:8080/"
        },
        "id": "woCNl0tPNy6V",
        "outputId": "66d790fb-9531-499a-8d5b-474c428c10c4"
      },
      "execution_count": 72,
      "outputs": [
        {
          "output_type": "stream",
          "name": "stdout",
          "text": [
            "+-------------------+-------------------+-------------------+-------------------+--------------------+----------------+-------+-------------------+\n",
            "|        category_id|         event_time|           order_id|         product_id|       category_code|           brand|  price|            user_id|\n",
            "+-------------------+-------------------+-------------------+-------------------+--------------------+----------------+-------+-------------------+\n",
            "|2374498913999872433|2020-05-27 10:40:41|2353235075740467568|1515966223523303381|  computers.notebook|       microsoft|  92.57|1515915625484634627|\n",
            "|2374498913999872433|2020-03-18 05:08:49|2348821332633845779|1515966223523303381|  computers.notebook|       microsoft|  92.57|1515915625484672316|\n",
            "|2374498913999872433|2020-03-13 09:02:04|2348818144560153139|1515966223523303381|  computers.notebook|       microsoft|  92.57|1515915625484669258|\n",
            "|2374498913999872433|2020-02-14 09:00:43|2348796044923372273|1515966223523303381|  computers.notebook|       microsoft|  92.57|1515915625484646798|\n",
            "|2268105388790383230|2020-02-07 14:56:00|2348787578108379139|2273948227747185444|appliances.kitche...|hotpoint-ariston|1064.79|1515915625443124719|\n",
            "|2374498913999872433|2020-03-06 13:45:19|2348810137398935586|1515966223523303381|  computers.notebook|       microsoft|  92.57|1515915625452178584|\n",
            "|2374498913999872433|2020-02-28 05:03:23|2348804879419441891|1515966223523303381|  computers.notebook|       microsoft|  92.57|1515915625484654910|\n",
            "|2374498913999872433|2020-03-20 07:24:53|2348823064076091562|1515966223523303381|  computers.notebook|       microsoft|  92.57|1515915625484623453|\n",
            "|2374498913999872433|2020-01-15 11:20:40|2348773692646883737|1515966223523303381|  computers.notebook|       microsoft|  92.57|1515915625484623946|\n",
            "|2374498913999872433|2020-03-07 13:02:12|2348814209472528829|1515966223523303381|  computers.notebook|       microsoft|  92.57|1515915625480609389|\n",
            "+-------------------+-------------------+-------------------+-------------------+--------------------+----------------+-------+-------------------+\n",
            "only showing top 10 rows\n",
            "\n"
          ]
        }
      ]
    },
    {
      "cell_type": "code",
      "source": [
        "num_rows2 = transactions_cleaned.count()\n",
        "print(f\"Number of rows in transactions: {num_rows2}\")"
      ],
      "metadata": {
        "colab": {
          "base_uri": "https://localhost:8080/"
        },
        "id": "KCOCMHqpOEWr",
        "outputId": "6bcc4439-695f-46bd-8ff2-0fc5a7f47324"
      },
      "execution_count": 76,
      "outputs": [
        {
          "output_type": "stream",
          "name": "stdout",
          "text": [
            "Number of rows in transactions: 1588840\n"
          ]
        }
      ]
    },
    {
      "cell_type": "code",
      "source": [
        "missing_counts3 = transactions_cleaned.select([F.sum(F.col(c).isNull().cast(\"int\")).alias(c) for c in transactions_cleaned.columns])"
      ],
      "metadata": {
        "id": "9FXqY5tUN30N"
      },
      "execution_count": 77,
      "outputs": []
    },
    {
      "cell_type": "code",
      "source": [
        "missing_counts3.show()"
      ],
      "metadata": {
        "colab": {
          "base_uri": "https://localhost:8080/"
        },
        "id": "NyT6lhYqN7aK",
        "outputId": "a756ffb7-b7fb-4e85-c615-4ad586750fe7"
      },
      "execution_count": 78,
      "outputs": [
        {
          "output_type": "stream",
          "name": "stdout",
          "text": [
            "+-----------+----------+--------+----------+-------------+-----+-----+-------+\n",
            "|category_id|event_time|order_id|product_id|category_code|brand|price|user_id|\n",
            "+-----------+----------+--------+----------+-------------+-----+-----+-------+\n",
            "|          0|         0|       0|         0|            0|57165|    0|1154566|\n",
            "+-----------+----------+--------+----------+-------------+-----+-----+-------+\n",
            "\n"
          ]
        }
      ]
    },
    {
      "cell_type": "markdown",
      "source": [
        "# Dealing with user_id, here I just remove that user_id is null"
      ],
      "metadata": {
        "id": "UVX_X-9vRYH2"
      }
    },
    {
      "cell_type": "code",
      "source": [
        "transactions_cleaned2 = transactions_cleaned.filter(F.col(\"user_id\").isNotNull())"
      ],
      "metadata": {
        "id": "-Swfs_J_QzLV"
      },
      "execution_count": 79,
      "outputs": []
    },
    {
      "cell_type": "code",
      "source": [
        "\n",
        "missing_counts4 = transactions_cleaned2.select([F.sum(F.col(c).isNull().cast(\"int\")).alias(c) for c in transactions_cleaned2.columns])"
      ],
      "metadata": {
        "id": "eZU6ABPhRPxJ"
      },
      "execution_count": 80,
      "outputs": []
    },
    {
      "cell_type": "code",
      "source": [
        "missing_counts4.show()"
      ],
      "metadata": {
        "colab": {
          "base_uri": "https://localhost:8080/"
        },
        "id": "ctY647HRRVHd",
        "outputId": "d099137e-57d7-44f9-8b70-cf35a369d9d7"
      },
      "execution_count": 81,
      "outputs": [
        {
          "output_type": "stream",
          "name": "stdout",
          "text": [
            "+-----------+----------+--------+----------+-------------+-----+-----+-------+\n",
            "|category_id|event_time|order_id|product_id|category_code|brand|price|user_id|\n",
            "+-----------+----------+--------+----------+-------------+-----+-----+-------+\n",
            "|          0|         0|       0|         0|            0|14056|    0|      0|\n",
            "+-----------+----------+--------+----------+-------------+-----+-----+-------+\n",
            "\n"
          ]
        }
      ]
    },
    {
      "cell_type": "markdown",
      "source": [
        "# Dealing with brand, here I just remove that brand is null"
      ],
      "metadata": {
        "id": "pt2N387FSK_l"
      }
    },
    {
      "cell_type": "code",
      "source": [
        "transactions_cleaned3 = transactions_cleaned2.filter(F.col(\"brand\").isNotNull())"
      ],
      "metadata": {
        "id": "v-Fg5EQBRjLt"
      },
      "execution_count": 85,
      "outputs": []
    },
    {
      "cell_type": "code",
      "source": [
        "msing_counts5 = transactions_cleaned3.select([F.sum(F.col(c).isNull().cast(\"int\")).alias(c) for c in transactions_cleaned3.columns])"
      ],
      "metadata": {
        "id": "Rl2I9-VARoQY"
      },
      "execution_count": 86,
      "outputs": []
    },
    {
      "cell_type": "code",
      "source": [
        "msing_counts5.show()"
      ],
      "metadata": {
        "colab": {
          "base_uri": "https://localhost:8080/"
        },
        "id": "7fP-PnNJR0oF",
        "outputId": "a749f790-6ad6-406e-eb6a-4fad252ce3e2"
      },
      "execution_count": 87,
      "outputs": [
        {
          "output_type": "stream",
          "name": "stdout",
          "text": [
            "+-----------+----------+--------+----------+-------------+-----+-----+-------+\n",
            "|category_id|event_time|order_id|product_id|category_code|brand|price|user_id|\n",
            "+-----------+----------+--------+----------+-------------+-----+-----+-------+\n",
            "|          0|         0|       0|         0|            0|    0|    0|      0|\n",
            "+-----------+----------+--------+----------+-------------+-----+-----+-------+\n",
            "\n"
          ]
        }
      ]
    },
    {
      "cell_type": "code",
      "source": [
        "num_rows3 = transactions_cleaned3.count()\n",
        "print(f\"Number of rows in transactions: {num_rows3}\")"
      ],
      "metadata": {
        "colab": {
          "base_uri": "https://localhost:8080/"
        },
        "id": "_i3gRMMsSDlp",
        "outputId": "0e069e53-f445-448a-968b-6a3fa3395583"
      },
      "execution_count": 88,
      "outputs": [
        {
          "output_type": "stream",
          "name": "stdout",
          "text": [
            "Number of rows in transactions: 420218\n"
          ]
        }
      ]
    },
    {
      "cell_type": "markdown",
      "source": [],
      "metadata": {
        "id": "UIXYWcftRnr-"
      }
    }
  ]
}